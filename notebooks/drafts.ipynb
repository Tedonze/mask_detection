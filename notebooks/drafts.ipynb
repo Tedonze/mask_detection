{
 "cells": [
  {
   "cell_type": "code",
   "execution_count": 1,
   "metadata": {},
   "outputs": [],
   "source": [
    "%load_ext autoreload\n",
    "%autoreload 2"
   ]
  },
  {
   "cell_type": "code",
   "execution_count": 2,
   "metadata": {},
   "outputs": [
    {
     "name": "stdout",
     "output_type": "stream",
     "text": [
      "/home/onyxia/work/mask_detection\n"
     ]
    }
   ],
   "source": [
    "cd .."
   ]
  },
  {
   "cell_type": "code",
   "execution_count": 12,
   "metadata": {},
   "outputs": [],
   "source": [
    "import os\n",
    "import s3fs\n",
    "import pandas as pd\n",
    "import torch\n",
    "import torch.nn as nn\n",
    "import matplotlib.pyplot as plt\n",
    "from sklearn.metrics import  roc_auc_score ,roc_curve\n",
    "\n",
    "from src.core.configs import settings, fs\n",
    "from src.dataloader.loader import CustomImageDataset, MaskDataloaders\n",
    "from src.model.base_model import BaseModel\n",
    "from src.model.net_model import Net\n",
    "from src.utils import get_device\n",
    "\n",
    "\n",
    "\n",
    "device = get_device()\n"
   ]
  },
  {
   "cell_type": "code",
   "execution_count": 4,
   "metadata": {},
   "outputs": [],
   "source": [
    "train, val= MaskDataloaders(settings.s3_prefix, 0.7).getDataloaders()"
   ]
  },
  {
   "cell_type": "code",
   "execution_count": 5,
   "metadata": {},
   "outputs": [
    {
     "name": "stdout",
     "output_type": "stream",
     "text": [
      "/home/onyxia/work/mask_detection/notebooks/save_model\n"
     ]
    },
    {
     "name": "stderr",
     "output_type": "stream",
     "text": [
      "/home/onyxia/.cache/pypoetry/virtualenvs/mask-detection-0JYe926e-py3.10/lib/python3.10/site-packages/IPython/core/magics/osm.py:417: UserWarning: using dhist requires you to install the `pickleshare` library.\n",
      "  self.shell.db['dhist'] = compress_dhist(dhist)[-100:]\n"
     ]
    }
   ],
   "source": [
    "cd notebooks/save_model"
   ]
  },
  {
   "cell_type": "code",
   "execution_count": 6,
   "metadata": {},
   "outputs": [],
   "source": [
    "net = Net(2)\n",
    "base_model = BaseModel(net)"
   ]
  },
  {
   "cell_type": "markdown",
   "metadata": {},
   "source": [
    "### Fit the model"
   ]
  },
  {
   "cell_type": "code",
   "execution_count": 8,
   "metadata": {},
   "outputs": [
    {
     "name": "stdout",
     "output_type": "stream",
     "text": [
      "epoch: 0 \n",
      "            Loss training:0.694 Loss validation:0.692\n",
      "epoch: 1 \n",
      "            Loss training:0.692 Loss validation:0.691\n",
      "epoch: 2 \n",
      "            Loss training:0.690 Loss validation:0.689\n",
      "epoch: 3 \n",
      "            Loss training:0.687 Loss validation:0.685\n",
      "epoch: 4 \n",
      "            Loss training:0.681 Loss validation:0.677\n",
      "epoch: 5 \n",
      "            Loss training:0.670 Loss validation:0.661\n",
      "epoch: 6 \n",
      "            Loss training:0.646 Loss validation:0.623\n",
      "epoch: 7 \n",
      "            Loss training:0.594 Loss validation:0.537\n",
      "epoch: 8 \n",
      "            Loss training:0.524 Loss validation:0.444\n",
      "epoch: 9 \n",
      "            Loss training:0.439 Loss validation:0.378\n",
      "epoch: 10 \n",
      "            Loss training:0.347 Loss validation:0.279\n",
      "epoch: 11 \n",
      "            Loss training:0.256 Loss validation:0.212\n",
      "epoch: 12 \n",
      "            Loss training:0.191 Loss validation:0.159\n",
      "epoch: 13 \n",
      "            Loss training:0.141 Loss validation:0.159\n",
      "epoch: 14 \n",
      "            Loss training:0.139 Loss validation:0.126\n",
      "epoch: 15 \n",
      "            Loss training:0.110 Loss validation:0.129\n",
      "epoch: 16 \n",
      "            Loss training:0.097 Loss validation:0.161\n",
      "epoch: 17 \n",
      "            Loss training:0.107 Loss validation:0.089\n",
      "epoch: 18 \n",
      "            Loss training:0.083 Loss validation:0.086\n",
      "epoch: 19 \n",
      "            Loss training:0.072 Loss validation:0.086\n",
      "epoch: 20 \n",
      "            Loss training:0.072 Loss validation:0.086\n",
      "epoch: 21 \n",
      "            Loss training:0.063 Loss validation:0.083\n",
      "epoch: 22 \n",
      "            Loss training:0.062 Loss validation:0.091\n",
      "epoch: 23 \n",
      "            Loss training:0.065 Loss validation:0.078\n",
      "epoch: 24 \n",
      "            Loss training:0.053 Loss validation:0.092\n",
      "epoch: 25 \n",
      "            Loss training:0.067 Loss validation:0.140\n",
      "epoch: 26 \n",
      "            Loss training:0.066 Loss validation:0.074\n",
      "epoch: 27 \n",
      "            Loss training:0.049 Loss validation:0.081\n",
      "epoch: 28 \n",
      "            Loss training:0.050 Loss validation:0.080\n",
      "epoch: 29 \n",
      "            Loss training:0.040 Loss validation:0.082\n",
      "epoch: 30 \n",
      "            Loss training:0.037 Loss validation:0.101\n",
      "epoch: 31 \n",
      "            Loss training:0.050 Loss validation:0.085\n",
      "epoch: 32 \n",
      "            Loss training:0.040 Loss validation:0.078\n",
      "epoch: 33 \n",
      "            Loss training:0.033 Loss validation:0.080\n",
      "epoch: 34 \n",
      "            Loss training:0.025 Loss validation:0.087\n",
      "epoch: 35 \n",
      "            Loss training:0.023 Loss validation:0.105\n",
      "epoch: 36 \n",
      "            Loss training:0.025 Loss validation:0.090\n",
      "epoch: 37 \n",
      "            Loss training:0.031 Loss validation:0.077\n",
      "epoch: 38 \n",
      "            Loss training:0.020 Loss validation:0.073\n",
      "epoch: 39 \n",
      "            Loss training:0.031 Loss validation:0.108\n",
      "epoch: 40 \n",
      "            Loss training:0.035 Loss validation:0.095\n",
      "epoch: 41 \n",
      "            Loss training:0.020 Loss validation:0.075\n",
      "epoch: 42 \n",
      "            Loss training:0.013 Loss validation:0.086\n",
      "epoch: 43 \n",
      "            Loss training:0.011 Loss validation:0.086\n",
      "epoch: 44 \n",
      "            Loss training:0.019 Loss validation:0.085\n",
      "epoch: 45 \n",
      "            Loss training:0.014 Loss validation:0.087\n",
      "epoch: 46 \n",
      "            Loss training:0.015 Loss validation:0.102\n",
      "epoch: 47 \n",
      "            Loss training:0.024 Loss validation:0.078\n",
      "epoch: 48 \n",
      "            Loss training:0.015 Loss validation:0.094\n",
      "epoch: 49 \n",
      "            Loss training:0.015 Loss validation:0.108\n",
      "epoch: 50 \n",
      "            Loss training:0.010 Loss validation:0.086\n",
      "epoch: 51 \n",
      "            Loss training:0.011 Loss validation:0.085\n",
      "epoch: 52 \n",
      "            Loss training:0.008 Loss validation:0.091\n",
      "epoch: 53 \n",
      "            Loss training:0.006 Loss validation:0.088\n",
      "epoch: 54 \n",
      "            Loss training:0.004 Loss validation:0.107\n",
      "epoch: 55 \n",
      "            Loss training:0.005 Loss validation:0.099\n",
      "epoch: 56 \n",
      "            Loss training:0.004 Loss validation:0.093\n",
      "epoch: 57 \n",
      "            Loss training:0.004 Loss validation:0.094\n",
      "epoch: 58 \n",
      "            Loss training:0.003 Loss validation:0.094\n",
      "epoch: 59 \n",
      "            Loss training:0.003 Loss validation:0.104\n",
      "epoch: 60 \n",
      "            Loss training:0.003 Loss validation:0.103\n",
      "epoch: 61 \n",
      "            Loss training:0.003 Loss validation:0.099\n",
      "epoch: 62 \n",
      "            Loss training:0.003 Loss validation:0.101\n",
      "epoch: 63 \n",
      "            Loss training:0.002 Loss validation:0.111\n",
      "epoch: 64 \n",
      "            Loss training:0.003 Loss validation:0.110\n",
      "epoch: 65 \n",
      "            Loss training:0.002 Loss validation:0.110\n",
      "epoch: 66 \n",
      "            Loss training:0.002 Loss validation:0.102\n",
      "epoch: 67 \n",
      "            Loss training:0.002 Loss validation:0.104\n",
      "epoch: 68 \n",
      "            Loss training:0.008 Loss validation:0.104\n",
      "epoch: 69 \n",
      "            Loss training:0.002 Loss validation:0.104\n",
      "epoch: 70 \n",
      "            Loss training:0.002 Loss validation:0.105\n"
     ]
    }
   ],
   "source": [
    "\n",
    "\n",
    "#base_model.fit([train, val])"
   ]
  },
  {
   "cell_type": "code",
   "execution_count": 8,
   "metadata": {},
   "outputs": [
    {
     "name": "stdout",
     "output_type": "stream",
     "text": [
      "/home/onyxia/work/mask_detection\n"
     ]
    },
    {
     "name": "stderr",
     "output_type": "stream",
     "text": [
      "/home/onyxia/.cache/pypoetry/virtualenvs/mask-detection-0JYe926e-py3.10/lib/python3.10/site-packages/IPython/core/magics/osm.py:417: UserWarning: using dhist requires you to install the `pickleshare` library.\n",
      "  self.shell.db['dhist'] = compress_dhist(dhist)[-100:]\n"
     ]
    }
   ],
   "source": [
    "cd ../.."
   ]
  },
  {
   "cell_type": "code",
   "execution_count": 9,
   "metadata": {},
   "outputs": [],
   "source": [
    "base_model.load_model(path='./checkpoint/loss_validation0.073.save')"
   ]
  },
  {
   "cell_type": "markdown",
   "metadata": {},
   "source": [
    "### Compute score on validation set"
   ]
  },
  {
   "cell_type": "code",
   "execution_count": 10,
   "metadata": {},
   "outputs": [
    {
     "name": "stderr",
     "output_type": "stream",
     "text": [
      "/home/onyxia/.cache/pypoetry/virtualenvs/mask-detection-0JYe926e-py3.10/lib/python3.10/site-packages/torch/nn/modules/module.py:1518: UserWarning: Implicit dimension choice for softmax has been deprecated. Change the call to include dim=X as an argument.\n",
      "  return self._call_impl(*args, **kwargs)\n"
     ]
    }
   ],
   "source": [
    "proba_list=[]\n",
    "label_list=[]\n",
    "for data in val:\n",
    "                inputs, labels = data\n",
    "                inputs = inputs.to(device)\n",
    "                labels = labels.to(device)\n",
    "                outputs = base_model.model(inputs)\n",
    "                proba= nn.Softmax()(outputs)[:,1]\n",
    "                proba_list.append(proba)\n",
    "                label_list.append(labels)\n",
    "              "
   ]
  },
  {
   "cell_type": "code",
   "execution_count": 14,
   "metadata": {},
   "outputs": [
    {
     "name": "stdout",
     "output_type": "stream",
     "text": [
      "auc :  0.9957138594254401\n"
     ]
    }
   ],
   "source": [
    "probability= torch.concatenate(proba_list).cpu().detach().numpy()\n",
    "label_true = torch.concatenate(label_list).cpu().detach().numpy()\n",
    "auc_score= roc_auc_score(y_score=probability,y_true=label_true)\n",
    "print('auc : ' , auc_score)\n",
    "fpr, tpr, thres= roc_curve(label_true,probability)\n"
   ]
  },
  {
   "cell_type": "code",
   "execution_count": 16,
   "metadata": {},
   "outputs": [
    {
     "data": {
      "image/png": "[encoded data removed]",
      "text/plain": [
       "<Figure size 640x480 with 1 Axes>"
      ]
     },
     "metadata": {},
     "output_type": "display_data"
    }
   ],
   "source": [
    "plt.plot(fpr,tpr)\n",
    "plt.xlabel('FPR')\n",
    "plt.ylabel('TPR')\n",
    "plt.title('AUC on validation set')\n",
    "plt.show()\n",
    "\n"
   ]
  },
  {
   "cell_type": "code",
   "execution_count": 17,
   "metadata": {},
   "outputs": [
    {
     "name": "stdout",
     "output_type": "stream",
     "text": [
      "Net(\n",
      "  (conv1): Conv2d(3, 6, kernel_size=(5, 5), stride=(1, 1))\n",
      "  (pool): MaxPool2d(kernel_size=2, stride=2, padding=0, dilation=1, ceil_mode=False)\n",
      "  (conv2): Conv2d(6, 16, kernel_size=(5, 5), stride=(1, 1))\n",
      "  (fc1): Linear(in_features=13456, out_features=120, bias=True)\n",
      "  (fc2): Linear(in_features=120, out_features=84, bias=True)\n",
      "  (fc3): Linear(in_features=84, out_features=2, bias=True)\n",
      ")\n"
     ]
    }
   ],
   "source": [
    "print(base_model.model)"
   ]
  },
  {
   "cell_type": "code",
   "execution_count": null,
   "metadata": {},
   "outputs": [],
   "source": []
  }
 ],
 "metadata": {
  "kernelspec": {
   "display_name": "base",
   "language": "python",
   "name": "python3"
  },
  "language_info": {
   "codemirror_mode": {
    "name": "ipython",
    "version": 3
   },
   "file_extension": ".py",
   "mimetype": "text/x-python",
   "name": "python",
   "nbconvert_exporter": "python",
   "pygments_lexer": "ipython3",
   "version": "3.10.13"
  }
 },
 "nbformat": 4,
 "nbformat_minor": 2
}
