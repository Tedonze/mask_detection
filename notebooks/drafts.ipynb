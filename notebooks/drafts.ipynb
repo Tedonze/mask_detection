{
 "cells": [
  {
   "cell_type": "code",
   "execution_count": null,
   "metadata": {},
   "outputs": [],
   "source": [
    "hviimport os\n",
    "import s3fs\n",
    "import pandas as pd\n",
    "\n",
    "os.chdir(\"../\")\n",
    "\n",
    "from src.core.configs import settings, fs\n",
    "from src.dataloader.loader import CustomImageDataset, MaskDataloaders"
   ]
  },
  {
   "cell_type": "code",
   "execution_count": null,
   "metadata": {},
   "outputs": [],
   "source": [
    "df_classes = pd.read_csv(fs.open(f\"{settings.s3_prefix}_classes.csv\")).drop(axis=1, columns=[\" without_mask\"])\n",
    "\n",
    "df_train = df_classes.groupby(' with_mask', group_keys=False).apply(lambda x: x.sample(frac=0.7))\n",
    "\n",
    "df_validation_test = df_classes[~df_classes.index.isin(df_train.index)]\n",
    "\n",
    "df_validation = df_validation_test.groupby(' with_mask', group_keys=False).apply(lambda x: x.sample(frac=0.7))\n",
    "\n",
    "df_test = df_validation_test[~df_validation_test.index.isin(df_validation.index)]"
   ]
  },
  {
   "cell_type": "code",
   "execution_count": null,
   "metadata": {},
   "outputs": [],
   "source": [
    "len(MaskDataloaders(settings.s3_prefix, [0.7, 0.2, 0.1]).getDataloaders()[2])"
   ]
  },
  {
   "cell_type": "code",
   "execution_count": null,
   "metadata": {},
   "outputs": [],
   "source": []
  }
 ],
 "metadata": {
  "kernelspec": {
   "display_name": "base",
   "language": "python",
   "name": "python3"
  },
  "language_info": {
   "codemirror_mode": {
    "name": "ipython",
    "version": 3
   },
   "file_extension": ".py",
   "mimetype": "text/x-python",
   "name": "python",
   "nbconvert_exporter": "python",
   "pygments_lexer": "ipython3",
   "version": "3.10.13"
  }
 },
 "nbformat": 4,
 "nbformat_minor": 2
}
