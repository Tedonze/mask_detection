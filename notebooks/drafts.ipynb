{
 "cells": [
  {
   "cell_type": "code",
   "execution_count": 12,
   "metadata": {},
   "outputs": [],
   "source": [
    "import os\n",
    "import s3fs\n",
    "import pandas as pd\n",
    "import torch\n",
    "import io\n",
    "import matplotlib.pyplot as plt\n",
    "from torch.utils.data import Dataset\n",
    "from torchvision import datasets\n",
    "from torchvision.transforms import ToTensor\n",
    "\n",
    "from torchvision.io import read_image\n",
    "from PIL import Image\n",
    "\n",
    "os.chdir(\"../\")\n",
    "\n",
    "from src.core.configs import settings"
   ]
  },
  {
   "cell_type": "code",
   "execution_count": 4,
   "metadata": {},
   "outputs": [],
   "source": [
    "fs = s3fs.S3FileSystem(\n",
    "    client_kwargs={'endpoint_url': settings.s3_endpointUrl},\n",
    "    key =settings.s3_key,\n",
    "    secret = settings.s3_secret,\n",
    "    token = settings.s3_token\n",
    ")"
   ]
  },
  {
   "cell_type": "code",
   "execution_count": 5,
   "metadata": {},
   "outputs": [
    {
     "data": {
      "text/html": [
       "<div>\n",
       "<style scoped>\n",
       "    .dataframe tbody tr th:only-of-type {\n",
       "        vertical-align: middle;\n",
       "    }\n",
       "\n",
       "    .dataframe tbody tr th {\n",
       "        vertical-align: top;\n",
       "    }\n",
       "\n",
       "    .dataframe thead th {\n",
       "        text-align: right;\n",
       "    }\n",
       "</style>\n",
       "<table border=\"1\" class=\"dataframe\">\n",
       "  <thead>\n",
       "    <tr style=\"text-align: right;\">\n",
       "      <th></th>\n",
       "      <th>filename</th>\n",
       "      <th>with_mask</th>\n",
       "      <th>without_mask</th>\n",
       "    </tr>\n",
       "  </thead>\n",
       "  <tbody>\n",
       "    <tr>\n",
       "      <th>0</th>\n",
       "      <td>26-with-mask_jpg.rf.fb2a4fd14461ba4e7d981f51d9...</td>\n",
       "      <td>1</td>\n",
       "      <td>0</td>\n",
       "    </tr>\n",
       "    <tr>\n",
       "      <th>1</th>\n",
       "      <td>66_jpg.rf.fb48333563aba0cd06afba343f625d98.jpg</td>\n",
       "      <td>0</td>\n",
       "      <td>1</td>\n",
       "    </tr>\n",
       "    <tr>\n",
       "      <th>2</th>\n",
       "      <td>153-with-mask_jpg.rf.fb584ce29ce6d9a3123a04d80...</td>\n",
       "      <td>1</td>\n",
       "      <td>0</td>\n",
       "    </tr>\n",
       "    <tr>\n",
       "      <th>3</th>\n",
       "      <td>29-with-mask_jpg.rf.fb9ecac8d3dc335a43b79a9438...</td>\n",
       "      <td>1</td>\n",
       "      <td>0</td>\n",
       "    </tr>\n",
       "    <tr>\n",
       "      <th>4</th>\n",
       "      <td>augmented_image_315_jpg.rf.fba9c25c6675c5a039f...</td>\n",
       "      <td>1</td>\n",
       "      <td>0</td>\n",
       "    </tr>\n",
       "    <tr>\n",
       "      <th>...</th>\n",
       "      <td>...</td>\n",
       "      <td>...</td>\n",
       "      <td>...</td>\n",
       "    </tr>\n",
       "    <tr>\n",
       "      <th>1274</th>\n",
       "      <td>417_jpg.rf.64bed386d653f324066a9377a9dbbff8.jpg</td>\n",
       "      <td>0</td>\n",
       "      <td>1</td>\n",
       "    </tr>\n",
       "    <tr>\n",
       "      <th>1275</th>\n",
       "      <td>augmented_image_117_jpg.rf.6433692ef34560a302c...</td>\n",
       "      <td>0</td>\n",
       "      <td>1</td>\n",
       "    </tr>\n",
       "    <tr>\n",
       "      <th>1276</th>\n",
       "      <td>290_jpg.rf.65fd4f514fa0882844857ee5b4ff4880.jpg</td>\n",
       "      <td>0</td>\n",
       "      <td>1</td>\n",
       "    </tr>\n",
       "    <tr>\n",
       "      <th>1277</th>\n",
       "      <td>305-with-mask_jpg.rf.65c190086fbfb468313020747...</td>\n",
       "      <td>1</td>\n",
       "      <td>0</td>\n",
       "    </tr>\n",
       "    <tr>\n",
       "      <th>1278</th>\n",
       "      <td>391_jpg.rf.636b219090112e04ca0653d4b7deac76.jpg</td>\n",
       "      <td>0</td>\n",
       "      <td>1</td>\n",
       "    </tr>\n",
       "  </tbody>\n",
       "</table>\n",
       "<p>1279 rows × 3 columns</p>\n",
       "</div>"
      ],
      "text/plain": [
       "                                               filename   with_mask  \\\n",
       "0     26-with-mask_jpg.rf.fb2a4fd14461ba4e7d981f51d9...           1   \n",
       "1        66_jpg.rf.fb48333563aba0cd06afba343f625d98.jpg           0   \n",
       "2     153-with-mask_jpg.rf.fb584ce29ce6d9a3123a04d80...           1   \n",
       "3     29-with-mask_jpg.rf.fb9ecac8d3dc335a43b79a9438...           1   \n",
       "4     augmented_image_315_jpg.rf.fba9c25c6675c5a039f...           1   \n",
       "...                                                 ...         ...   \n",
       "1274    417_jpg.rf.64bed386d653f324066a9377a9dbbff8.jpg           0   \n",
       "1275  augmented_image_117_jpg.rf.6433692ef34560a302c...           0   \n",
       "1276    290_jpg.rf.65fd4f514fa0882844857ee5b4ff4880.jpg           0   \n",
       "1277  305-with-mask_jpg.rf.65c190086fbfb468313020747...           1   \n",
       "1278    391_jpg.rf.636b219090112e04ca0653d4b7deac76.jpg           0   \n",
       "\n",
       "       without_mask  \n",
       "0                 0  \n",
       "1                 1  \n",
       "2                 0  \n",
       "3                 0  \n",
       "4                 0  \n",
       "...             ...  \n",
       "1274              1  \n",
       "1275              1  \n",
       "1276              1  \n",
       "1277              0  \n",
       "1278              1  \n",
       "\n",
       "[1279 rows x 3 columns]"
      ]
     },
     "execution_count": 5,
     "metadata": {},
     "output_type": "execute_result"
    }
   ],
   "source": [
    "pd.read_csv(fs.open(f\"{settings.s3_prefix}_classes.csv\"))"
   ]
  },
  {
   "cell_type": "code",
   "execution_count": 16,
   "metadata": {},
   "outputs": [],
   "source": [
    "\n",
    "\n",
    "class CustomImageDataset(Dataset):\n",
    "    def __init__(self, annotations_file, img_dir, transform=None, target_transform=None):\n",
    "        self.img_labels = pd.read_csv(annotations_file)\n",
    "        self.img_dir = img_dir\n",
    "        self.transform = transform\n",
    "        self.target_transform = target_transform\n",
    "\n",
    "    def __len__(self):\n",
    "        return len(self.img_labels)\n",
    "\n",
    "    def __getitem__(self, idx):\n",
    "        img_path = f'{self.img_dir}{self.img_labels.iloc[idx, 0]}'\n",
    "        image = Image.open(io.BytesIO(fs.open(img_path).read()))\n",
    "        image = ToTensor()(image)\n",
    "        label = self.img_labels.iloc[idx, 1]\n",
    "        if self.transform:\n",
    "            image = self.transform(image)\n",
    "        if self.target_transform:\n",
    "            label = self.target_transform(label)\n",
    "        return image, label"
   ]
  },
  {
   "cell_type": "code",
   "execution_count": 20,
   "metadata": {},
   "outputs": [],
   "source": [
    "data=CustomImageDataset(fs.open(f\"{settings.s3_prefix}_classes.csv\"),settings.s3_prefix )"
   ]
  },
  {
   "cell_type": "code",
   "execution_count": 21,
   "metadata": {},
   "outputs": [
    {
     "data": {
      "text/plain": [
       "(tensor([[[0.8314, 0.8353, 0.8431,  ..., 0.9176, 0.9176, 0.9176],\n",
       "          [0.8431, 0.8471, 0.8510,  ..., 0.9176, 0.9176, 0.9176],\n",
       "          [0.8549, 0.8549, 0.8588,  ..., 0.9137, 0.9137, 0.9137],\n",
       "          ...,\n",
       "          [0.2157, 0.2275, 0.2471,  ..., 0.3059, 0.3098, 0.3137],\n",
       "          [0.1961, 0.2196, 0.2510,  ..., 0.2902, 0.2941, 0.2980],\n",
       "          [0.1843, 0.2000, 0.2275,  ..., 0.2667, 0.2706, 0.2745]],\n",
       " \n",
       "         [[0.7216, 0.7255, 0.7333,  ..., 0.8353, 0.8353, 0.8353],\n",
       "          [0.7333, 0.7373, 0.7412,  ..., 0.8353, 0.8353, 0.8353],\n",
       "          [0.7451, 0.7451, 0.7490,  ..., 0.8314, 0.8314, 0.8314],\n",
       "          ...,\n",
       "          [0.1529, 0.1647, 0.1843,  ..., 0.2000, 0.2078, 0.2118],\n",
       "          [0.1137, 0.1451, 0.1686,  ..., 0.1843, 0.1922, 0.1961],\n",
       "          [0.0941, 0.1176, 0.1373,  ..., 0.1608, 0.1686, 0.1725]],\n",
       " \n",
       "         [[0.7098, 0.7137, 0.7216,  ..., 0.8549, 0.8549, 0.8549],\n",
       "          [0.7216, 0.7255, 0.7294,  ..., 0.8549, 0.8549, 0.8549],\n",
       "          [0.7333, 0.7333, 0.7373,  ..., 0.8510, 0.8510, 0.8510],\n",
       "          ...,\n",
       "          [0.1647, 0.1765, 0.1961,  ..., 0.2588, 0.2588, 0.2627],\n",
       "          [0.1333, 0.1608, 0.1882,  ..., 0.2431, 0.2431, 0.2471],\n",
       "          [0.1176, 0.1373, 0.1608,  ..., 0.2196, 0.2196, 0.2235]]]),\n",
       " 1)"
      ]
     },
     "execution_count": 21,
     "metadata": {},
     "output_type": "execute_result"
    }
   ],
   "source": [
    "data[0]"
   ]
  },
  {
   "cell_type": "code",
   "execution_count": null,
   "metadata": {},
   "outputs": [],
   "source": []
  },
  {
   "cell_type": "code",
   "execution_count": null,
   "metadata": {},
   "outputs": [],
   "source": []
  },
  {
   "cell_type": "code",
   "execution_count": null,
   "metadata": {},
   "outputs": [],
   "source": []
  }
 ],
 "metadata": {
  "kernelspec": {
   "display_name": "base",
   "language": "python",
   "name": "python3"
  },
  "language_info": {
   "codemirror_mode": {
    "name": "ipython",
    "version": 3
   },
   "file_extension": ".py",
   "mimetype": "text/x-python",
   "name": "python",
   "nbconvert_exporter": "python",
   "pygments_lexer": "ipython3",
   "version": "3.10.13"
  }
 },
 "nbformat": 4,
 "nbformat_minor": 2
}
